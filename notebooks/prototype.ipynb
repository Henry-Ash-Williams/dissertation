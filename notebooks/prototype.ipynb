{
 "cells": [
  {
   "attachments": {},
   "cell_type": "markdown",
   "metadata": {
    "id": "SzeRzpOgbfrB"
   },
   "source": [
    "# Dissertation Proof-of-Concept\n",
    "\n",
    "A system capable of determining whether the user is looking at the top or the bottom of a screen."
   ]
  },
  {
   "cell_type": "code",
   "execution_count": 9,
   "metadata": {},
   "outputs": [],
   "source": [
    "import matplotlib.pyplot as plt\n",
    "import cv2\n",
    "import numpy as np\n",
    "import os\n",
    "import json\n",
    "from rich import print"
   ]
  },
  {
   "cell_type": "code",
   "execution_count": 10,
   "metadata": {},
   "outputs": [],
   "source": [
    "# Just some variables to make logging stuff look nicer \n",
    "INFO = \"[[b green]+[/b green]]\"\n",
    "WARNING = \"[[b yellow]*[/b yellow]]\"\n",
    "ERROR = \"[[b red]![/b red]]\""
   ]
  },
  {
   "cell_type": "markdown",
   "metadata": {},
   "source": [
    "# Load Dataset \n",
    "\n",
    "This project uses the [Gazecapture](https://gazecapture.csail.mit.edu/) dataset. This is quite a large dataset when fully extracted ~(1.45TB), so I recomend using an external drive unless you have a lot of storage space available. "
   ]
  },
  {
   "cell_type": "code",
   "execution_count": 125,
   "metadata": {},
   "outputs": [],
   "source": [
    "# Location of the dataset\n",
    "DATASET_PATH = \"/Volumes/x10-pro/gazecapture\"\n",
    "\n",
    "# Reduce the amount of data we're extracting from the dataset\n",
    "DATASET_SIZE = 10\n",
    "FRAME_COUNT = 10\n",
    "\n",
    "IMAGE_RESOLUTION = (128, 128)\n",
    "\n",
    "# Helper function to assist selecting valid files\n",
    "def is_valid_file(filename: str) -> bool:\n",
    "    return not filename.startswith(\"._\") and not filename.endswith(\".md\") \n",
    "\n",
    "class DataPoint:\n",
    "    def __init__(\n",
    "        self, id: str, path: str = DATASET_PATH, frame_count: int = FRAME_COUNT\n",
    "    ):\n",
    "        \"\"\"\n",
    "        Load the datapoint from a directory containing all of the information\n",
    "        about the capture, this function does not respect parameters such as frame count, \n",
    "        and cleaning the data is necessary to make it usable\n",
    "        :param id: The id of the datapoint to load\n",
    "        :param path: Path to the dataset, i.e. `/path/to/gazecapture`. Defaults to `DATASET_PATH`\n",
    "        :param frame_count: The number of frames to load, defaults to `FRAME_COUNT`\n",
    "        \"\"\"\n",
    "        # TODO: Modify json loading logic so it respects FRAME_COUNT, and load into a numpy array \n",
    "        self.frame_count = frame_count\n",
    "        self.frames = []\n",
    "        \n",
    "        with open(f\"{path}/{id}/appleFace.json\") as file:\n",
    "            self.face = json.load(file)\n",
    "        with open(f\"{path}/{id}/appleLeftEye.json\") as file:\n",
    "            self.left_eye = json.load(file)\n",
    "        with open(f\"{path}/{id}/appleRightEye.json\") as file:\n",
    "            self.right_eye = json.load(file)\n",
    "        with open(f\"{path}/{id}/dotInfo.json\") as file:\n",
    "            self.dot_info = json.load(file)\n",
    "        with open(f\"{path}/{id}/faceGrid.json\") as file:\n",
    "            self.facegrid = json.load(file)\n",
    "        with open(f\"{path}/{id}/info.json\") as file:\n",
    "            self.info = json.load(file)\n",
    "        with open(f\"{path}/{id}/motion.json\") as file:\n",
    "            self.motion = json.load(file)\n",
    "        with open(f\"{path}/{id}/screen.json\") as file:\n",
    "            self.screen = json.load(file)\n",
    "\n",
    "        frame_files = list(filter(is_valid_file, os.listdir(f\"{path}/{id}/frames\")))\n",
    "\n",
    "        for frame in frame_files[:self.frame_count]:\n",
    "            img = cv2.imread(f\"{path}/{id}/frames/{frame}\")\n",
    "            img = cv2.cvtColor(img, cv2.COLOR_BGR2RGB)\n",
    "            self.frames.append(img)\n",
    "\n",
    "\n",
    "    def get_frames_and_gt(self): \n",
    "        # returns a list containing frames and the corresponding dot position \n",
    "        data = []\n",
    "\n",
    "        for idx, frame in enumerate(self.frames[:self.frame_count]):\n",
    "            data.append([frame, (self.dot_info[\"XPts\"][idx], self.dot_info[\"YPts\"][idx])]) \n",
    "\n",
    "        return data\n",
    "\n",
    "    def get_frames_and_gt_norm(self):\n",
    "        data = self.get_frames_and_gt()\n",
    "        res = self.get_frames_resolution() \n",
    "\n",
    "        for idx, frame_info in enumerate( data ): \n",
    "            normed_points = ( frame_info[1][0] / res[0], frame_info[1][1] / res[1] )\n",
    "            data[idx][1] = normed_points\n",
    "            data[idx][0] = cv2.resize(data[idx][0], IMAGE_RESOLUTION)\n",
    "\n",
    "        return data\n",
    "\n",
    "    def get_random_frame_idx(self):\n",
    "        return np.random.randint(len(self.frames))\n",
    "\n",
    "    def get_frames_resolution(self):\n",
    "        return self.frames[0].shape\n",
    "\n",
    "    def get_random_frame(self):\n",
    "        return self.frames[self.get_random_frame_idx()]"
   ]
  },
  {
   "cell_type": "code",
   "execution_count": 126,
   "metadata": {},
   "outputs": [
    {
     "data": {
      "text/html": [
       "<pre style=\"white-space:pre;overflow-x:auto;line-height:normal;font-family:Menlo,'DejaVu Sans Mono',consolas,'Courier New',monospace\"><span style=\"font-weight: bold\">[</span><span style=\"color: #008000; text-decoration-color: #008000; font-weight: bold\">+</span><span style=\"font-weight: bold\">]</span> Dataset loaded\n",
       "</pre>\n"
      ],
      "text/plain": [
       "\u001b[1m[\u001b[0m\u001b[1;32m+\u001b[0m\u001b[1m]\u001b[0m Dataset loaded\n"
      ]
     },
     "metadata": {},
     "output_type": "display_data"
    }
   ],
   "source": [
    "try: \n",
    "    dataset_ids = os.listdir(DATASET_PATH)\n",
    "except FileNotFoundError:\n",
    "    print(f\"{ERROR} Dataset not found, is the external drive plugged in?\")\n",
    "\n",
    "# Remove hidden files and license/readme files\n",
    "dataset_ids = list(filter(\n",
    "    is_valid_file,\n",
    "    dataset_ids\n",
    "))\n",
    "\n",
    "np.random.shuffle(dataset_ids)\n",
    "data = []\n",
    "\n",
    "for id in dataset_ids[:DATASET_SIZE]: \n",
    "    data.append(DataPoint(id))\n",
    "\n",
    "print(f\"{INFO} Dataset loaded\")"
   ]
  },
  {
   "cell_type": "code",
   "execution_count": null,
   "metadata": {},
   "outputs": [],
   "source": [
    "def visualize_img(datapoint, idx):\n",
    "    \"\"\" \n",
    "    Given a datapoint from the dataset, and an idx, \n",
    "    display a box around the face, and eyes\n",
    "    :param datapoint: The datapoint\n",
    "    :param idx: The index of the frame to visualize\n",
    "    \"\"\"\n",
    "    normed_data = datapoint.get_frames_and_gt() \n",
    "    img = normed_data[idx][0]\n",
    "    \n",
    "    face_box = {'x': datapoint.face[\"X\"][idx], 'y': datapoint.face[\"Y\"][idx], 'w': datapoint.face[\"W\"][idx], 'h': datapoint.face[\"H\"][idx]}\n",
    "    l_eye_box = {'x': datapoint.left_eye[\"X\"][idx], 'y': datapoint.left_eye[\"Y\"][idx], 'w': datapoint.left_eye[\"W\"][idx], 'h': datapoint.left_eye[\"H\"][idx]}\n",
    "    r_eye_box = {'x': datapoint.right_eye[\"X\"][idx], 'y': datapoint.right_eye[\"Y\"][idx], 'w': datapoint.right_eye[\"W\"][idx], 'h': datapoint.right_eye[\"H\"][idx]}\n",
    "\n",
    "    b_boxes = [face_box, l_eye_box, r_eye_box]\n",
    "\n",
    "    for bbox in b_boxes:\n",
    "        x0 = bbox['x'] - bbox['w']\n",
    "        x1 = bbox['x'] + bbox['w']\n",
    "        y0 = bbox['y'] - bbox['h']\n",
    "        y1 = bbox['y'] + bbox['h']\n",
    "\n",
    "        start = (int(x0), int(y0))\n",
    "        end = (int(x1), int(y1))\n",
    "\n",
    "        cv2.rectangle(img, start, end, color=(0,255,0), thickness=2)\n",
    "\n",
    "    plt.imshow(img)\n",
    "    plt.xticks([])\n",
    "    plt.yticks([])\n",
    "    plt.show()\n",
    "\n",
    "def get_random_img_idx(dataset):\n",
    "    dp_idx = np.random.randint(len(dataset))\n",
    "    frame_idx = dataset[dp_idx].get_random_frame_idx()\n",
    "\n",
    "    return (dp_idx, frame_idx)\n",
    "\n",
    "idxs = get_random_img_idx(data)\n",
    "visualize_img(data[idxs[0]], idxs[1])"
   ]
  }
 ],
 "metadata": {
  "colab": {
   "provenance": []
  },
  "kernelspec": {
   "display_name": "Python 3 (ipykernel)",
   "language": "python",
   "name": "python3"
  },
  "language_info": {
   "codemirror_mode": {
    "name": "ipython",
    "version": 3
   },
   "file_extension": ".py",
   "mimetype": "text/x-python",
   "name": "python",
   "nbconvert_exporter": "python",
   "pygments_lexer": "ipython3",
   "version": "3.11.4"
  }
 },
 "nbformat": 4,
 "nbformat_minor": 1
}

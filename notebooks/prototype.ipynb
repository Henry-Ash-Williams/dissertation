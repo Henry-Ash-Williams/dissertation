{
 "cells": [
  {
   "attachments": {},
   "cell_type": "markdown",
   "metadata": {
    "id": "SzeRzpOgbfrB"
   },
   "source": [
    "# Dissertation Proof-of-Concept\n",
    "\n",
    "A system capable of determining whether the user is looking at the top or the bottom of a screen."
   ]
  },
  {
   "cell_type": "code",
   "execution_count": 2,
   "metadata": {},
   "outputs": [],
   "source": [
    "import matplotlib.pyplot as plt\n",
    "import cv2\n",
    "import numpy as np\n",
    "from torch.utils.data import Dataset, DataLoader\n",
    "import os\n",
    "import json\n",
    "from rich import print\n",
    "from model import ITrackerModel \n",
    "import torch "
   ]
  },
  {
   "cell_type": "markdown",
   "metadata": {},
   "source": [
    "# Constants "
   ]
  },
  {
   "cell_type": "code",
   "execution_count": 3,
   "metadata": {},
   "outputs": [],
   "source": [
    "GAZECAPTURE_ROOT = \"/Volumes/x10-pro/gazecapture_processed\""
   ]
  },
  {
   "cell_type": "markdown",
   "metadata": {},
   "source": [
    "# Load Dataset(s)\n",
    "## GazeCapture \n"
   ]
  },
  {
   "cell_type": "code",
   "execution_count": 4,
   "metadata": {},
   "outputs": [],
   "source": [
    "class GazeCaptureLoader(Dataset):\n",
    "    def __init__(self, files, imagedir):\n",
    "        self.root = imagedir\n",
    "        self.lines = []\n",
    "        for file in files:\n",
    "            with open(file) as f: \n",
    "                line = f.readlines() \n",
    "                line.pop(0)\n",
    "                self.lines.extend(line)\n",
    "\n",
    "    def __getitem__(self, index):\n",
    "        line = self.lines[index].strip().split(\" \")\n",
    "\n",
    "        point = line[4]\n",
    "        face = line[0]\n",
    "        \n",
    "        label = np.array(point.split(\",\")).astype(\"float\")\n",
    "        label = torch.from_numpy(label).type(torch.FloatTensor)\n",
    "        return (face,label)"
   ]
  },
  {
   "cell_type": "code",
   "execution_count": 5,
   "metadata": {},
   "outputs": [],
   "source": [
    "labels = f\"{GAZECAPTURE_ROOT}/Label/train\"\n",
    "images = f\"{GAZECAPTURE_ROOT}/Image\"\n",
    "\n",
    "# Fully qualified paths to each of the label files \n",
    "labelfiles = [os.path.join(labels, filename) for filename in os.listdir(labels)][:10]\n",
    "loader = GazeCaptureLoader(labelfiles, images)\n",
    "for face,label in loader:\n",
    "    pass"
   ]
  }
 ],
 "metadata": {
  "colab": {
   "provenance": []
  },
  "kernelspec": {
   "display_name": "Python 3 (ipykernel)",
   "language": "python",
   "name": "python3"
  },
  "language_info": {
   "codemirror_mode": {
    "name": "ipython",
    "version": 3
   },
   "file_extension": ".py",
   "mimetype": "text/x-python",
   "name": "python",
   "nbconvert_exporter": "python",
   "pygments_lexer": "ipython3",
   "version": "3.11.6"
  }
 },
 "nbformat": 4,
 "nbformat_minor": 1
}

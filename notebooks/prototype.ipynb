{
 "cells": [
  {
   "attachments": {},
   "cell_type": "markdown",
   "metadata": {
    "id": "SzeRzpOgbfrB"
   },
   "source": [
    "# Dissertation Proof-of-Concept\n",
    "\n",
    "A system capable of determining whether the user is looking at the top or the bottom of a screen."
   ]
  },
  {
   "cell_type": "code",
   "execution_count": null,
   "metadata": {},
   "outputs": [
    {
     "name": "stdout",
     "output_type": "stream",
     "text": [
      "Requirement already satisfied: pip in /Users/henrywilliams/Documents/uni/dissertation/env/lib/python3.11/site-packages (23.2.1)\n",
      "Note: you may need to restart the kernel to use updated packages.\n",
      "Note: you may need to restart the kernel to use updated packages.\n"
     ]
    }
   ],
   "source": [
    "%pip install --upgrade pip\n",
    "%pip install -q numpy tensorflow matplotlib opencv-python ipywidgets\n",
    "\n",
    "%matplotlib inlinedef showVideo(VideoIndex=0, scale=0.5):\n",
    "\n",
    "import numpy as np \n",
    "import tensorflow as tf\n",
    "from matplotlib import pyplot as plt \n",
    "import cv2 as cv \n",
    "from IPython.display import display, Image \n",
    "import ipywidgets as widgets\n",
    "import threading "
   ]
  },
  {
   "cell_type": "code",
   "execution_count": null,
   "metadata": {},
   "outputs": [],
   "source": [
    "    try:\n",
    "        cap = cv2.VideoCapture(VideoIndex)\n",
    "    except:\n",
    "        print(\"Cannot Open Device\")\n",
    "    try:\n",
    "        ret, frame = cap.read()\n",
    "        \n",
    "        while(ret==True):\n",
    "            # Capture frame-by-frame\n",
    "            ret, frame = cap.read()\n",
    "            \n",
    "            if not ret:\n",
    "                # Release the Video Device if ret is false\n",
    "                cap.release()\n",
    "                # Message to be displayed after releasing the device\n",
    "                print (\"Released Video Resource\")\n",
    "                break\n",
    "            #frame = cv2.cvtColor(frame, cv2.COLOR_BGR2RGB)\n",
    "            half_frame = cv2.resize(frame, (0, 0), fx = scale, fy = scale)#this fixed the pipeline issue as the imshow was converting to \n",
    "            #png!!!!\n",
    "            #credit: \n",
    "            # https://medium.com/@kostal91/displaying-real-time-webcam-stream-in-ipython-at-relatively-high-framerate-8e67428ac522\n",
    "            _,ret_array = cv2.imencode('.jpg', half_frame) \n",
    "            i = display.Image(data=ret_array)display.display(i)\n",
    "            display.clear_output(wait=True)\n",
    "            \n",
    "    except KeyboardInterrupt:\n",
    "        # Release the Video Device\n",
    "        cap.release()\n",
    "        # Message to be displayed after releasing the device\n",
    "        print(\"Released Video Resource from KeyboardInterrupt\")\n",
    "    passs\n",
    "showVideo(1, 0.5)"
   ]
  }
 ],
 "metadata": {
  "colab": {
   "provenance": []
  },
  "kernelspec": {
   "display_name": "Python 3 (ipykernel)",
   "language": "python",
   "name": "python3"
  },
  "language_info": {
   "codemirror_mode": {
    "name": "ipython",
    "version": 3
   },
   "file_extension": ".py",
   "mimetype": "text/x-python",
   "name": "python",
   "nbconvert_exporter": "python",
   "pygments_lexer": "ipython3",
   "version": "3.11.3"
  }
 },
 "nbformat": 4,
 "nbformat_minor": 1
}
